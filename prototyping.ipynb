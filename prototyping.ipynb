{
 "cells": [
  {
   "cell_type": "code",
   "execution_count": 1,
   "id": "ee46af2e-ef2c-4e44-8535-a7f2f639e270",
   "metadata": {},
   "outputs": [],
   "source": [
    "import asyncio\n",
    "\n",
    "import discord\n",
    "import gretchen_credentials as credentials\n",
    "from discord import app_commands\n",
    "\n",
    "class MyClient(discord.Client):\n",
    "    def __init__(self, *, intents: discord.Intents):\n",
    "        super().__init__(intents=intents)\n",
    "        self.tree = app_commands.CommandTree(self)\n",
    "\n",
    "    async def setup_hook(self):\n",
    "        #commands = await self.tree.sync()\n",
    "        pass\n",
    "\n",
    "intents = discord.Intents.default()\n",
    "# intents.members = True\n",
    "client = MyClient(intents=intents)\n"
   ]
  },
  {
   "cell_type": "code",
   "execution_count": 3,
   "id": "a2363d1d-1976-4e00-b52a-553ae15291ee",
   "metadata": {},
   "outputs": [
    {
     "name": "stderr",
     "output_type": "stream",
     "text": [
      "Unclosed client session\n",
      "client_session: <aiohttp.client.ClientSession object at 0x0000021A098B0050>\n"
     ]
    }
   ],
   "source": [
    "await client.login(credentials.bot_token)\n",
    "discord_task = asyncio.create_task(client.connect())\n",
    "await client.wait_until_ready()"
   ]
  },
  {
   "cell_type": "code",
   "execution_count": 4,
   "id": "d6ed85b0-df0b-4984-8d63-6d0fc211c543",
   "metadata": {},
   "outputs": [],
   "source": [
    "drk = await client.fetch_user(credentials.peeps['drk'])"
   ]
  },
  {
   "cell_type": "code",
   "execution_count": 8,
   "id": "73b43a00-c898-487a-86e6-a5de7b575eba",
   "metadata": {},
   "outputs": [
    {
     "data": {
      "text/plain": [
       "<Message id=1353571090802147419 channel=<DMChannel id=1332962780239761408 recipient=<User id=315037647431139329 name='edkrohne' global_name='Ed Krohne' bot=False>> type=<MessageType.default: 0> author=<User id=1332942971049611325 name='Gretchen' global_name=None bot=True> flags=<MessageFlags value=0>>"
      ]
     },
     "execution_count": 8,
     "metadata": {},
     "output_type": "execute_result"
    }
   ],
   "source": [
    "await drk.send(\"stretching routine\")"
   ]
  },
  {
   "cell_type": "code",
   "execution_count": 11,
   "id": "a76d355b-29e6-4a78-a421-5f9dd65ff2b0",
   "metadata": {},
   "outputs": [],
   "source": [
    "await client.close()"
   ]
  }
 ],
 "metadata": {
  "kernelspec": {
   "display_name": "Python 3 (ipykernel)",
   "language": "python",
   "name": "python3"
  },
  "language_info": {
   "codemirror_mode": {
    "name": "ipython",
    "version": 3
   },
   "file_extension": ".py",
   "mimetype": "text/x-python",
   "name": "python",
   "nbconvert_exporter": "python",
   "pygments_lexer": "ipython3",
   "version": "3.12.3"
  }
 },
 "nbformat": 4,
 "nbformat_minor": 5
}
